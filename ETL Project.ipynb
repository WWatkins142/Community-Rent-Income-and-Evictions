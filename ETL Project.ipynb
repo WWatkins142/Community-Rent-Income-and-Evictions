{
 "cells": [
  {
   "cell_type": "code",
   "execution_count": null,
   "id": "6a2e05b6",
   "metadata": {},
   "outputs": [],
   "source": [
    "# First, let's clean the data:\n",
    "# get rid of \"population rank\"\n",
    "# key should be county and state combined\n",
    "# columns g thru cc are data by month and year from nov 2010 thru jan 2017\n",
    "# maybe - delete counties with no data or with no data later than a certain cutoff (EG, if a county has data from december 2016 through jan 2017 it's useless)\n"
   ]
  },
  {
   "cell_type": "code",
   "execution_count": null,
   "id": "22d0b434",
   "metadata": {},
   "outputs": [],
   "source": [
    "# master table with counties\n",
    "# each month is a row of data..."
   ]
  }
 ],
 "metadata": {
  "kernelspec": {
   "display_name": "Python 3 (ipykernel)",
   "language": "python",
   "name": "python3"
  },
  "language_info": {
   "codemirror_mode": {
    "name": "ipython",
    "version": 3
   },
   "file_extension": ".py",
   "mimetype": "text/x-python",
   "name": "python",
   "nbconvert_exporter": "python",
   "pygments_lexer": "ipython3",
   "version": "3.9.7"
  }
 },
 "nbformat": 4,
 "nbformat_minor": 5
}
