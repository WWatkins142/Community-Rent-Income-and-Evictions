{
 "cells": [
  {
   "cell_type": "code",
   "execution_count": null,
   "id": "7683efff",
   "metadata": {},
   "outputs": [],
   "source": [
    "# First, let's clean the data:\n",
    "# get rid of \"population rank\"\n",
    "# key should be county and state combined\n",
    "# columns g thru cc are data by month and year from nov 2010 thru jan 2017\n",
    "# maybe - delete counties with no data or with no data later than a certain cutoff (EG, if a county has data from december 2016 through jan 2017 it's useless)\n"
   ]
  },
  {
   "cell_type": "code",
   "execution_count": null,
   "id": "f300684b",
   "metadata": {},
   "outputs": [],
   "source": [
    "# master table with counties\n",
    "# each month is a row of data..."
   ]
  },
  {
   "cell_type": "code",
   "execution_count": null,
   "id": "f3fccbfd",
   "metadata": {},
   "outputs": [],
   "source": [
    "# zillow steps to take:\n",
    "# ----------- clean the data --------------\n",
    "# merge rows by county - to get the mean of all records for a county\n",
    "# make the key county and state combined\n",
    "# get rid of the city and city code and metro (column a b and c)\n",
    "# get rid of population rank - keep if needed\n",
    "# format column headers for readability \n",
    "\n",
    "# ------------ get the data into a sql database -------------\n",
    "# read csv \n",
    "# put data into dictionaries\n",
    "# create data frames from the dictionaries\n",
    "# load data frames into database using sqlalchemy"
   ]
  }
 ],
 "metadata": {
  "kernelspec": {
   "display_name": "Python 3 (ipykernel)",
   "language": "python",
   "name": "python3"
  },
  "language_info": {
   "codemirror_mode": {
    "name": "ipython",
    "version": 3
   },
   "file_extension": ".py",
   "mimetype": "text/x-python",
   "name": "python",
   "nbconvert_exporter": "python",
   "pygments_lexer": "ipython3",
   "version": "3.9.7"
  }
 },
 "nbformat": 4,
 "nbformat_minor": 5
}
