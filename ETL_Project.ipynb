{
 "cells": [
  {
   "cell_type": "code",
   "execution_count": null,
   "id": "ec127c6a",
   "metadata": {},
   "outputs": [],
   "source": [
    "# First, let's clean the data:\n",
    "# get rid of \"population rank\"\n",
    "# key should be county and state combined\n",
    "# columns g thru cc are data by month and year from nov 2010 thru jan 2017\n",
    "# maybe - delete counties with no data or with no data later than a certain cutoff (EG, if a county has data from december 2016 through jan 2017 it's useless)"
   ]
  },
  {
   "cell_type": "code",
   "execution_count": null,
   "id": "7bc6f302",
   "metadata": {},
   "outputs": [],
   "source": [
    "# zillow steps to take:\n",
    "# ----------- clean the data --------------\n",
    "# merge rows by county - to get the mean of all records for a county\n",
    "# key is foreign key - county and state, combined - references \"master county table\"\n",
    "## update county and state information to match master table - change state to full name not an abbreviation\n",
    "## then create foreign key\n",
    "\n",
    "# get rid of the city and city code and metro (column a b and c)\n",
    "# get rid of population rank\n",
    "\n",
    "# format column headers for readability \n",
    "\n",
    "# ------------ get the data into a sql database -------------\n",
    "# convert into vertical data set instead of horizontal - dates need to be rows instead of columns... or something...\n",
    "# read csv \n",
    "# put data into dictionaries\n",
    "# create data frames from the dictionaries\n",
    "# load data frames into database using sqlalchemy, session.query"
   ]
  },
  {
   "cell_type": "code",
   "execution_count": null,
   "id": "14de73b5",
   "metadata": {},
   "outputs": [],
   "source": [
    "# key is foreign key - county and state, combined - references \"master county table\"\n",
    "## update county and state information to match master table - keep full state name\n",
    "## then create foreign key\n",
    "\n",
    "# change column names to be more descriptive AND format for :\n",
    "## poverty rate - change to percentage below poverty line\n",
    "## race - change to be clear (nh-pi should be native hawaiian or pacific islander)\n",
    "## pct.other - add \"race\" so it's clear what this column is referenceing - pct other race\n",
    "## add \"_pct\" or similar to every column that is a percentage\n",
    "\n",
    "# get rid of last three columns - y thru aa - \"low flag\" \"imputed\" and \"subbed\" - all zeros\n",
    "\n",
    "# compare this median.gross.rent to rent information from zillow"
   ]
  },
  {
   "cell_type": "code",
   "execution_count": null,
   "id": "50363f51",
   "metadata": {},
   "outputs": [],
   "source": [
    "# create a master county table with \"state\" and \"county\" which will be referenced by the other tables for their keys\n",
    "# primary key is county and state, combined"
   ]
  }
 ],
 "metadata": {
  "kernelspec": {
   "display_name": "Python 3 (ipykernel)",
   "language": "python",
   "name": "python3"
  },
  "language_info": {
   "codemirror_mode": {
    "name": "ipython",
    "version": 3
   },
   "file_extension": ".py",
   "mimetype": "text/x-python",
   "name": "python",
   "nbconvert_exporter": "python",
   "pygments_lexer": "ipython3",
   "version": "3.9.7"
  }
 },
 "nbformat": 4,
 "nbformat_minor": 5
}
