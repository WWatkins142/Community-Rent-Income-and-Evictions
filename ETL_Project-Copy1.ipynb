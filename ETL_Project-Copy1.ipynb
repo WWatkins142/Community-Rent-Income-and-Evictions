{
 "cells": [
  {
   "cell_type": "code",
   "execution_count": 2,
   "id": "6f640a80",
   "metadata": {},
   "outputs": [],
   "source": [
    "# master county table:\n",
    "# import the data from *whatever form it is in* - Di and Thea - done by Tuesday\n",
    "\n",
    "# once the data is imported everyone can feel free to work on the data independently \n",
    "\n",
    "# find a data source for every county in the us - Di and Thea - done by Tuesday\n",
    "# create a master county table with \"state\" and \"county\" which will be referenced by the other tables for their keys - Di and Thea  - done by Tuesday\n",
    "# primary key is county and state, combined - Di and Thea  - done by Tuesday\n",
    "\n",
    "import pandas as pd\n",
    "\n",
    "df = pd.read_csv('Master_Counties.csv')\n",
    "\n",
    "df['county_state'] = df['county'].astype(str) + \"_\" + df['state_name'].astype(str)\n",
    "\n",
    "df.to_csv('Master_Counties.csv', index=False)\n",
    "\n",
    "\n",
    "\n"
   ]
  },
  {
   "cell_type": "code",
   "execution_count": 3,
   "id": "2aa29cdb",
   "metadata": {},
   "outputs": [],
   "source": [
    "\n",
    "keep_col = ['county_state', 'county','state_id','state_name']\n",
    "new_df = df[keep_col].drop_duplicates(keep='first')\n",
    "new_df.to_csv(\"uscounty.csv\", index=False)\n",
    "\n"
   ]
  },
  {
   "cell_type": "code",
   "execution_count": null,
   "id": "914d655c",
   "metadata": {},
   "outputs": [],
   "source": [
    "# zillow steps to take:\n",
    "\n",
    "# import the data from csv - Randy and Elsa - done by Tuesday\n",
    "\n",
    "# once the data is imported everyone can feel free to work on the data independently\n",
    "\n",
    "# ----------- TRANSFORM - clean the data --------------\n",
    "# merge rows by county - to get the mean of all records for a county - Randy and Elsa  - done by Tuesday\n",
    "\n",
    "# get rid of the city and city code and metro (column a b and c) - Mark and Anthony - done by Tuesday\n",
    "# get rid of population rank - Mark and Anthony - done by Tuesday\n",
    "\n",
    "# format column headers for readability - Mark and Anthony - done by Tuesday\n",
    "\n",
    "# ------------ LOAD - get the data into a sql database -------------\n",
    "# convert into vertical data set instead of horizontal - dates need to be rows instead of columns... or something...\n",
    "# read csv \n",
    "# put data into dictionaries\n",
    "# create data frames from the dictionaries\n",
    "# load data frames into database using sqlalchemy, session.query\n",
    "# key is foreign key - county and state, combined - references \"master county table\" \n",
    "## update county and state information to match master table - change state to full name not an abbreviation\n",
    "## then create foreign key"
   ]
  },
  {
   "cell_type": "code",
   "execution_count": null,
   "id": "5bc31fbb",
   "metadata": {},
   "outputs": [],
   "source": [
    "# evictionlab data steps to take:\n",
    "\n",
    "# import the data from csv - Sidneyh and Harsh and Jason - done by Tuesday\n",
    "\n",
    "# once the data is imported everyone can feel free to work on the data independently\n",
    "\n",
    "#----------- TRANSFORM - clean the data -------------\n",
    "# update county and state info to match master table in anticipation of making this the foreign key - Sidneyh and Harsh and Jason - done by Tuesday\n",
    "\n",
    "# change column names to be more descriptive AND format for : - Scout and Wesley - done by Tuesday\n",
    "## poverty rate - change to percentage below poverty line - S and W - done by Tuesday\n",
    "## race - change to be clear (nh-pi should be native hawaiian or pacific islander) - S and W - done by Tuesday\n",
    "## pct.other - add \"race\" so it's clear what this column is referenceing - pct other race - S and W - done by Tuesday\n",
    "## add \"_pct\" or similar to every column that is a percentage - S and W - done by Tuesday\n",
    "\n",
    "# get rid of last three columns - y thru aa - \"low flag\" \"imputed\" and \"subbed\" - all zeros - S and W - done by Tuesday\n",
    "\n",
    "#---------- LOAD ------------\n",
    "# key is foreign key - county and state, combined - references \"master county table\"\n",
    "## update county and state information to match master table - keep full state name\n",
    "## then create foreign key\n",
    "\n",
    "# compare this median.gross.rent to rent information from zillow"
   ]
  },
  {
   "cell_type": "code",
   "execution_count": null,
   "id": "53125908",
   "metadata": {},
   "outputs": [],
   "source": [
    "# database to-do list:\n",
    "# inital database design - Prashanth - \"done\" by Tuesday\n",
    "# framework to load data into the database (something something sqlalchemy something something) - Prashanth - \"done\" by Tuesday"
   ]
  }
 ],
 "metadata": {
  "kernelspec": {
   "display_name": "Python 3",
   "language": "python",
   "name": "python3"
  },
  "language_info": {
   "codemirror_mode": {
    "name": "ipython",
    "version": 3
   },
   "file_extension": ".py",
   "mimetype": "text/x-python",
   "name": "python",
   "nbconvert_exporter": "python",
   "pygments_lexer": "ipython3",
   "version": "3.8.8"
  }
 },
 "nbformat": 4,
 "nbformat_minor": 5
}
