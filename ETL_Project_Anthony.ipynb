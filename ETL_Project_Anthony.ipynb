{
 "cells": [
  {
   "cell_type": "code",
   "execution_count": 1,
   "id": "c26c739d",
   "metadata": {},
   "outputs": [],
   "source": [
    "import pandas as pd"
   ]
  },
  {
   "cell_type": "code",
   "execution_count": 2,
   "id": "8eac8b5f",
   "metadata": {},
   "outputs": [],
   "source": [
    "# zillow steps to take:\n",
    "\n",
    "# ----------- TRANSFORM - clean the data --------------\n",
    "\n",
    "# get rid of the city and city code and metro (column a b and c) - Mark and Anthony - done by Tuesday\n",
    "# get rid of population rank - Mark and Anthony - done by Tuesday\n",
    "\n",
    "# format column headers for readability - Mark and Anthony - done by Tuesday"
   ]
  },
  {
   "cell_type": "code",
   "execution_count": null,
   "id": "dd849840",
   "metadata": {},
   "outputs": [],
   "source": [
    "price_url = 'https://raw.githubusercontent.com/randallwvr90/bootcamp_project_2/Anthony/csv/price.csv'"
   ]
  },
  {
   "cell_type": "code",
   "execution_count": null,
   "id": "fd553ee0",
   "metadata": {},
   "outputs": [],
   "source": [
    "price_df = pd.read_csv(price_url)"
   ]
  },
  {
   "cell_type": "code",
   "execution_count": null,
   "id": "174fdecf",
   "metadata": {},
   "outputs": [],
   "source": [
    "# get rid of the city and city code and metro (column a b and c) -\n",
    "# get rid of population rank - Mark and Anthony \n",
    "price_df.drop(['City Code', 'City', 'Metro', 'Population Rank'], axis=1, inplace=True)\n"
   ]
  },
  {
   "cell_type": "code",
   "execution_count": null,
   "id": "ebc93ccb",
   "metadata": {},
   "outputs": [],
   "source": [
    "# format column headers for readability\n",
    "\n",
    "headers = price_df.columns\n",
    "\n",
    "new_headers = []\n",
    "for  header in headers:\n",
    "    new_headers.append(header.replace(\" \", \"\"))\n",
    "\n",
    "    \n",
    "price_df.columns = new_headers \n",
    "price_df"
   ]
  },
  {
   "cell_type": "code",
   "execution_count": null,
   "id": "3960cc8e",
   "metadata": {},
   "outputs": [],
   "source": []
  },
  {
   "cell_type": "code",
   "execution_count": null,
   "id": "b04fd2fd",
   "metadata": {},
   "outputs": [],
   "source": []
  }
 ],
 "metadata": {
  "kernelspec": {
   "display_name": "Python 3",
   "language": "python",
   "name": "python3"
  },
  "language_info": {
   "codemirror_mode": {
    "name": "ipython",
    "version": 3
   },
   "file_extension": ".py",
   "mimetype": "text/x-python",
   "name": "python",
   "nbconvert_exporter": "python",
   "pygments_lexer": "ipython3",
   "version": "3.8.8"
  }
 },
 "nbformat": 4,
 "nbformat_minor": 5
}
